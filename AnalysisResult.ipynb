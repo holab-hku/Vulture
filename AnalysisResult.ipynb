{
 "cells": [
  {
   "cell_type": "code",
   "execution_count": 2,
   "metadata": {},
   "outputs": [],
   "source": [
    "import pandas as pd"
   ]
  },
  {
   "cell_type": "code",
   "execution_count": 3,
   "metadata": {},
   "outputs": [],
   "source": [
    "df_gene_49 = pd.read_csv(\"data/49/filtered_matrix_viral_genes_info.txt\",sep=\"\\t\")"
   ]
  },
  {
   "cell_type": "code",
   "execution_count": 4,
   "metadata": {},
   "outputs": [
    {
     "data": {
      "text/html": [
       "<div>\n",
       "<style scoped>\n",
       "    .dataframe tbody tr th:only-of-type {\n",
       "        vertical-align: middle;\n",
       "    }\n",
       "\n",
       "    .dataframe tbody tr th {\n",
       "        vertical-align: top;\n",
       "    }\n",
       "\n",
       "    .dataframe thead th {\n",
       "        text-align: right;\n",
       "    }\n",
       "</style>\n",
       "<table border=\"1\" class=\"dataframe\">\n",
       "  <thead>\n",
       "    <tr style=\"text-align: right;\">\n",
       "      <th></th>\n",
       "      <th>gene</th>\n",
       "      <th>UMI_counts</th>\n",
       "      <th>median_num_human_genes_expressed</th>\n",
       "      <th>accession</th>\n",
       "      <th>reference_name</th>\n",
       "    </tr>\n",
       "  </thead>\n",
       "  <tbody>\n",
       "    <tr>\n",
       "      <th>0</th>\n",
       "      <td>gene-D1P11_gp8</td>\n",
       "      <td>12</td>\n",
       "      <td>5033.5</td>\n",
       "      <td>NC_038283.1</td>\n",
       "      <td>Ekpoma virus 2 isolate EKV-2, partial genome</td>\n",
       "    </tr>\n",
       "    <tr>\n",
       "      <th>1</th>\n",
       "      <td>E1.gene-HPV-108_gp2</td>\n",
       "      <td>4</td>\n",
       "      <td>4486.0</td>\n",
       "      <td>NC_012213.1</td>\n",
       "      <td>Human papillomavirus type 108, complete genome</td>\n",
       "    </tr>\n",
       "    <tr>\n",
       "      <th>2</th>\n",
       "      <td>gene-CAB93_sLgp1</td>\n",
       "      <td>3</td>\n",
       "      <td>4638.0</td>\n",
       "      <td>NC_034387.1</td>\n",
       "      <td>Nairobi sheep disease virus isolate Jilin segm...</td>\n",
       "    </tr>\n",
       "    <tr>\n",
       "      <th>3</th>\n",
       "      <td>UL8.gene-HHV1gp00p67</td>\n",
       "      <td>2</td>\n",
       "      <td>3390.0</td>\n",
       "      <td>NC_001806.2</td>\n",
       "      <td>Human herpesvirus 1 strain 17, complete genome</td>\n",
       "    </tr>\n",
       "    <tr>\n",
       "      <th>4</th>\n",
       "      <td>UL29.gene-HHV5wtgp034</td>\n",
       "      <td>2</td>\n",
       "      <td>5741.5</td>\n",
       "      <td>NC_006273.2</td>\n",
       "      <td>Human herpesvirus 5 strain Merlin, complete ge...</td>\n",
       "    </tr>\n",
       "  </tbody>\n",
       "</table>\n",
       "</div>"
      ],
      "text/plain": [
       "                    gene  UMI_counts  median_num_human_genes_expressed  \\\n",
       "0         gene-D1P11_gp8          12                            5033.5   \n",
       "1    E1.gene-HPV-108_gp2           4                            4486.0   \n",
       "2       gene-CAB93_sLgp1           3                            4638.0   \n",
       "3   UL8.gene-HHV1gp00p67           2                            3390.0   \n",
       "4  UL29.gene-HHV5wtgp034           2                            5741.5   \n",
       "\n",
       "     accession                                     reference_name  \n",
       "0  NC_038283.1       Ekpoma virus 2 isolate EKV-2, partial genome  \n",
       "1  NC_012213.1     Human papillomavirus type 108, complete genome  \n",
       "2  NC_034387.1  Nairobi sheep disease virus isolate Jilin segm...  \n",
       "3  NC_001806.2     Human herpesvirus 1 strain 17, complete genome  \n",
       "4  NC_006273.2  Human herpesvirus 5 strain Merlin, complete ge...  "
      ]
     },
     "execution_count": 4,
     "metadata": {},
     "output_type": "execute_result"
    }
   ],
   "source": [
    "df_gene_49.head()"
   ]
  },
  {
   "cell_type": "code",
   "execution_count": 5,
   "metadata": {},
   "outputs": [],
   "source": [
    "df_barcode_49 = pd.read_csv(\"data/49/filtered_matrix_viral_barcodes_info.txt\",sep=\"\\t\")"
   ]
  },
  {
   "cell_type": "code",
   "execution_count": 6,
   "metadata": {},
   "outputs": [
    {
     "data": {
      "text/plain": [
       "3"
      ]
     },
     "execution_count": 6,
     "metadata": {},
     "output_type": "execute_result"
    }
   ],
   "source": [
    "sum(df_barcode_49.loc[:,\"NC_045512.2\"]>0)"
   ]
  },
  {
   "cell_type": "code",
   "execution_count": 7,
   "metadata": {},
   "outputs": [
    {
     "data": {
      "text/html": [
       "<div>\n",
       "<style scoped>\n",
       "    .dataframe tbody tr th:only-of-type {\n",
       "        vertical-align: middle;\n",
       "    }\n",
       "\n",
       "    .dataframe tbody tr th {\n",
       "        vertical-align: top;\n",
       "    }\n",
       "\n",
       "    .dataframe thead th {\n",
       "        text-align: right;\n",
       "    }\n",
       "</style>\n",
       "<table border=\"1\" class=\"dataframe\">\n",
       "  <thead>\n",
       "    <tr style=\"text-align: right;\">\n",
       "      <th></th>\n",
       "      <th>accession</th>\n",
       "      <th>UMI_counts</th>\n",
       "    </tr>\n",
       "  </thead>\n",
       "  <tbody>\n",
       "    <tr>\n",
       "      <th>36</th>\n",
       "      <td>NC_038283.1</td>\n",
       "      <td>12</td>\n",
       "    </tr>\n",
       "    <tr>\n",
       "      <th>17</th>\n",
       "      <td>NC_006273.2</td>\n",
       "      <td>5</td>\n",
       "    </tr>\n",
       "    <tr>\n",
       "      <th>23</th>\n",
       "      <td>NC_012213.1</td>\n",
       "      <td>4</td>\n",
       "    </tr>\n",
       "    <tr>\n",
       "      <th>43</th>\n",
       "      <td>NC_045512.2</td>\n",
       "      <td>4</td>\n",
       "    </tr>\n",
       "    <tr>\n",
       "      <th>20</th>\n",
       "      <td>NC_007653.1</td>\n",
       "      <td>4</td>\n",
       "    </tr>\n",
       "  </tbody>\n",
       "</table>\n",
       "</div>"
      ],
      "text/plain": [
       "      accession  UMI_counts\n",
       "36  NC_038283.1          12\n",
       "17  NC_006273.2           5\n",
       "23  NC_012213.1           4\n",
       "43  NC_045512.2           4\n",
       "20  NC_007653.1           4"
      ]
     },
     "execution_count": 7,
     "metadata": {},
     "output_type": "execute_result"
    }
   ],
   "source": [
    "df_gene_49.groupby(['accession'])['UMI_counts'].agg('sum').reset_index().sort_values(by=['UMI_counts'],ascending=False).head()"
   ]
  },
  {
   "cell_type": "code",
   "execution_count": 16,
   "metadata": {},
   "outputs": [
    {
     "data": {
      "text/plain": [
       "45"
      ]
     },
     "execution_count": 16,
     "metadata": {},
     "output_type": "execute_result"
    }
   ],
   "source": [
    "len(df_gene_49.groupby(['accession'])['UMI_counts'].agg('sum').reset_index().sort_values(by=['UMI_counts'],ascending=False))"
   ]
  },
  {
   "cell_type": "code",
   "execution_count": 8,
   "metadata": {},
   "outputs": [],
   "source": [
    "df_gene_50 = pd.read_csv(\"data/50/filtered_matrix_viral_genes_info.txt\",sep=\"\\t\")"
   ]
  },
  {
   "cell_type": "code",
   "execution_count": 9,
   "metadata": {},
   "outputs": [
    {
     "data": {
      "text/html": [
       "<div>\n",
       "<style scoped>\n",
       "    .dataframe tbody tr th:only-of-type {\n",
       "        vertical-align: middle;\n",
       "    }\n",
       "\n",
       "    .dataframe tbody tr th {\n",
       "        vertical-align: top;\n",
       "    }\n",
       "\n",
       "    .dataframe thead th {\n",
       "        text-align: right;\n",
       "    }\n",
       "</style>\n",
       "<table border=\"1\" class=\"dataframe\">\n",
       "  <thead>\n",
       "    <tr style=\"text-align: right;\">\n",
       "      <th></th>\n",
       "      <th>gene</th>\n",
       "      <th>UMI_counts</th>\n",
       "      <th>median_num_human_genes_expressed</th>\n",
       "      <th>accession</th>\n",
       "      <th>reference_name</th>\n",
       "    </tr>\n",
       "  </thead>\n",
       "  <tbody>\n",
       "    <tr>\n",
       "      <th>0</th>\n",
       "      <td>ORF1ab.gene-GU280_gp01</td>\n",
       "      <td>235</td>\n",
       "      <td>1899.5</td>\n",
       "      <td>NC_045512.2</td>\n",
       "      <td>Severe acute respiratory syndrome coronavirus ...</td>\n",
       "    </tr>\n",
       "    <tr>\n",
       "      <th>1</th>\n",
       "      <td>N.gene-GU280_gp10</td>\n",
       "      <td>158</td>\n",
       "      <td>1916.0</td>\n",
       "      <td>NC_045512.2</td>\n",
       "      <td>Severe acute respiratory syndrome coronavirus ...</td>\n",
       "    </tr>\n",
       "    <tr>\n",
       "      <th>2</th>\n",
       "      <td>ORF10.gene-GU280_gp11</td>\n",
       "      <td>62</td>\n",
       "      <td>1174.0</td>\n",
       "      <td>NC_045512.2</td>\n",
       "      <td>Severe acute respiratory syndrome coronavirus ...</td>\n",
       "    </tr>\n",
       "    <tr>\n",
       "      <th>3</th>\n",
       "      <td>ORF7a.gene-GU280_gp07</td>\n",
       "      <td>15</td>\n",
       "      <td>1293.0</td>\n",
       "      <td>NC_045512.2</td>\n",
       "      <td>Severe acute respiratory syndrome coronavirus ...</td>\n",
       "    </tr>\n",
       "    <tr>\n",
       "      <th>4</th>\n",
       "      <td>ORF8.gene-GU280_gp09</td>\n",
       "      <td>13</td>\n",
       "      <td>1068.0</td>\n",
       "      <td>NC_045512.2</td>\n",
       "      <td>Severe acute respiratory syndrome coronavirus ...</td>\n",
       "    </tr>\n",
       "  </tbody>\n",
       "</table>\n",
       "</div>"
      ],
      "text/plain": [
       "                     gene  UMI_counts  median_num_human_genes_expressed  \\\n",
       "0  ORF1ab.gene-GU280_gp01         235                            1899.5   \n",
       "1       N.gene-GU280_gp10         158                            1916.0   \n",
       "2   ORF10.gene-GU280_gp11          62                            1174.0   \n",
       "3   ORF7a.gene-GU280_gp07          15                            1293.0   \n",
       "4    ORF8.gene-GU280_gp09          13                            1068.0   \n",
       "\n",
       "     accession                                     reference_name  \n",
       "0  NC_045512.2  Severe acute respiratory syndrome coronavirus ...  \n",
       "1  NC_045512.2  Severe acute respiratory syndrome coronavirus ...  \n",
       "2  NC_045512.2  Severe acute respiratory syndrome coronavirus ...  \n",
       "3  NC_045512.2  Severe acute respiratory syndrome coronavirus ...  \n",
       "4  NC_045512.2  Severe acute respiratory syndrome coronavirus ...  "
      ]
     },
     "execution_count": 9,
     "metadata": {},
     "output_type": "execute_result"
    }
   ],
   "source": [
    "df_gene_50.head()"
   ]
  },
  {
   "cell_type": "code",
   "execution_count": 10,
   "metadata": {},
   "outputs": [
    {
     "data": {
      "text/html": [
       "<div>\n",
       "<style scoped>\n",
       "    .dataframe tbody tr th:only-of-type {\n",
       "        vertical-align: middle;\n",
       "    }\n",
       "\n",
       "    .dataframe tbody tr th {\n",
       "        vertical-align: top;\n",
       "    }\n",
       "\n",
       "    .dataframe thead th {\n",
       "        text-align: right;\n",
       "    }\n",
       "</style>\n",
       "<table border=\"1\" class=\"dataframe\">\n",
       "  <thead>\n",
       "    <tr style=\"text-align: right;\">\n",
       "      <th></th>\n",
       "      <th>accession</th>\n",
       "      <th>UMI_counts</th>\n",
       "    </tr>\n",
       "  </thead>\n",
       "  <tbody>\n",
       "    <tr>\n",
       "      <th>51</th>\n",
       "      <td>NC_045512.2</td>\n",
       "      <td>518</td>\n",
       "    </tr>\n",
       "    <tr>\n",
       "      <th>45</th>\n",
       "      <td>NC_038283.1</td>\n",
       "      <td>8</td>\n",
       "    </tr>\n",
       "    <tr>\n",
       "      <th>34</th>\n",
       "      <td>NC_019023.1</td>\n",
       "      <td>4</td>\n",
       "    </tr>\n",
       "    <tr>\n",
       "      <th>17</th>\n",
       "      <td>NC_006273.2</td>\n",
       "      <td>4</td>\n",
       "    </tr>\n",
       "    <tr>\n",
       "      <th>41</th>\n",
       "      <td>NC_034495.1</td>\n",
       "      <td>4</td>\n",
       "    </tr>\n",
       "  </tbody>\n",
       "</table>\n",
       "</div>"
      ],
      "text/plain": [
       "      accession  UMI_counts\n",
       "51  NC_045512.2         518\n",
       "45  NC_038283.1           8\n",
       "34  NC_019023.1           4\n",
       "17  NC_006273.2           4\n",
       "41  NC_034495.1           4"
      ]
     },
     "execution_count": 10,
     "metadata": {},
     "output_type": "execute_result"
    }
   ],
   "source": [
    "df_gene_50.groupby(['accession'])['UMI_counts'].agg('sum').reset_index().sort_values(by=['UMI_counts'],ascending=False).head()"
   ]
  },
  {
   "cell_type": "code",
   "execution_count": 17,
   "metadata": {},
   "outputs": [
    {
     "data": {
      "text/plain": [
       "52"
      ]
     },
     "execution_count": 17,
     "metadata": {},
     "output_type": "execute_result"
    }
   ],
   "source": [
    "len(df_gene_50.groupby(['accession'])['UMI_counts'].agg('sum').reset_index().sort_values(by=['UMI_counts'],ascending=False))"
   ]
  },
  {
   "cell_type": "code",
   "execution_count": 11,
   "metadata": {},
   "outputs": [
    {
     "data": {
      "text/html": [
       "<div>\n",
       "<style scoped>\n",
       "    .dataframe tbody tr th:only-of-type {\n",
       "        vertical-align: middle;\n",
       "    }\n",
       "\n",
       "    .dataframe tbody tr th {\n",
       "        vertical-align: top;\n",
       "    }\n",
       "\n",
       "    .dataframe thead th {\n",
       "        text-align: right;\n",
       "    }\n",
       "</style>\n",
       "<table border=\"1\" class=\"dataframe\">\n",
       "  <thead>\n",
       "    <tr style=\"text-align: right;\">\n",
       "      <th></th>\n",
       "      <th>accession</th>\n",
       "      <th>UMI_counts</th>\n",
       "    </tr>\n",
       "  </thead>\n",
       "  <tbody>\n",
       "    <tr>\n",
       "      <th>59</th>\n",
       "      <td>NC_045512.2</td>\n",
       "      <td>597</td>\n",
       "    </tr>\n",
       "    <tr>\n",
       "      <th>54</th>\n",
       "      <td>NC_038283.1</td>\n",
       "      <td>6</td>\n",
       "    </tr>\n",
       "    <tr>\n",
       "      <th>28</th>\n",
       "      <td>NC_006273.2</td>\n",
       "      <td>5</td>\n",
       "    </tr>\n",
       "    <tr>\n",
       "      <th>15</th>\n",
       "      <td>NC_002642.1</td>\n",
       "      <td>4</td>\n",
       "    </tr>\n",
       "    <tr>\n",
       "      <th>25</th>\n",
       "      <td>NC_005221.1</td>\n",
       "      <td>3</td>\n",
       "    </tr>\n",
       "  </tbody>\n",
       "</table>\n",
       "</div>"
      ],
      "text/plain": [
       "      accession  UMI_counts\n",
       "59  NC_045512.2         597\n",
       "54  NC_038283.1           6\n",
       "28  NC_006273.2           5\n",
       "15  NC_002642.1           4\n",
       "25  NC_005221.1           3"
      ]
     },
     "execution_count": 11,
     "metadata": {},
     "output_type": "execute_result"
    }
   ],
   "source": [
    "df_gene_51 = pd.read_csv(\"data/51/filtered_matrix_viral_genes_info.txt\",sep=\"\\t\")\n",
    "df_gene_51.groupby(['accession'])['UMI_counts'].agg('sum').reset_index().sort_values(by=['UMI_counts'],ascending=False).head()"
   ]
  },
  {
   "cell_type": "code",
   "execution_count": 18,
   "metadata": {},
   "outputs": [
    {
     "data": {
      "text/plain": [
       "60"
      ]
     },
     "execution_count": 18,
     "metadata": {},
     "output_type": "execute_result"
    }
   ],
   "source": [
    "len(df_gene_51.groupby(['accession'])['UMI_counts'].agg('sum').reset_index().sort_values(by=['UMI_counts'],ascending=False))"
   ]
  },
  {
   "cell_type": "code",
   "execution_count": 20,
   "metadata": {},
   "outputs": [
    {
     "name": "stdout",
     "output_type": "stream",
     "text": [
      "      accession  UMI_counts\n",
      "36  NC_038283.1          12\n",
      "17  NC_006273.2           5\n",
      "23  NC_012213.1           4\n",
      "43  NC_045512.2           4\n",
      "20  NC_007653.1           4\n",
      "45\n",
      "      accession  UMI_counts\n",
      "51  NC_045512.2         528\n",
      "45  NC_038283.1           8\n",
      "34  NC_019023.1           4\n",
      "17  NC_006273.2           4\n",
      "41  NC_034495.1           4\n",
      "52\n",
      "      accession  UMI_counts\n",
      "58  NC_045512.2         565\n",
      "53  NC_038283.1           5\n",
      "28  NC_006273.2           5\n",
      "15  NC_002642.1           4\n",
      "25  NC_005221.1           3\n",
      "59\n"
     ]
    }
   ],
   "source": [
    "for id in range(49,52):\n",
    "    df_gene = pd.read_csv(\"data//scvh_out_10t_08_03_2021_11_21_32_SRR115379\"+str(id)+\"//filtered_matrix_viral_genes_info.txt\",sep=\"\\t\")\n",
    "    print(df_gene.groupby(['accession'])['UMI_counts'].agg('sum').reset_index().sort_values(by=['UMI_counts'],ascending=False).head())\n",
    "    print(len(df_gene.groupby(['accession'])['UMI_counts'].agg('sum').reset_index().sort_values(by=['UMI_counts'],ascending=False)))"
   ]
  },
  {
   "cell_type": "code",
   "execution_count": 21,
   "metadata": {
    "scrolled": true
   },
   "outputs": [
    {
     "name": "stdout",
     "output_type": "stream",
     "text": [
      "     accession  UMI_counts\n",
      "0  NC_045512.2           2\n",
      "1\n",
      "     accession  UMI_counts\n",
      "0  NC_045512.2         439\n",
      "1\n",
      "     accession  UMI_counts\n",
      "1  NC_045512.2         445\n",
      "0  NC_001461.1           1\n",
      "2\n"
     ]
    }
   ],
   "source": [
    "for id in range(49,52):\n",
    "    df_gene = pd.read_csv(\"data//run_SRR115379\"+str(id)+\"//filtered_matrix_viral_genes_info.txt\",sep=\"\\t\")\n",
    "    print(df_gene.groupby(['accession'])['UMI_counts'].agg('sum').reset_index().sort_values(by=['UMI_counts'],ascending=False).head())\n",
    "    print(len(df_gene.groupby(['accession'])['UMI_counts'].agg('sum').reset_index().sort_values(by=['UMI_counts'],ascending=False)))"
   ]
  },
  {
   "cell_type": "code",
   "execution_count": 22,
   "metadata": {},
   "outputs": [
    {
     "name": "stdout",
     "output_type": "stream",
     "text": [
      "     accession  UMI_counts\n",
      "0  NC_045512.2           3\n",
      "1\n",
      "     accession  UMI_counts\n",
      "0  NC_045512.2         970\n",
      "1\n",
      "     accession  UMI_counts\n",
      "1  NC_045512.2         464\n",
      "0  NC_001461.1           1\n",
      "2\n"
     ]
    }
   ],
   "source": [
    "for id in range(49,52):\n",
    "    df_gene = pd.read_csv(\"data//out_SRR115379\"+str(id)+\"//filtered_matrix_viral_genes_info.txt\",sep=\"\\t\")\n",
    "    print(df_gene.groupby(['accession'])['UMI_counts'].agg('sum').reset_index().sort_values(by=['UMI_counts'],ascending=False).head())\n",
    "    print(len(df_gene.groupby(['accession'])['UMI_counts'].agg('sum').reset_index().sort_values(by=['UMI_counts'],ascending=False)))"
   ]
  }
 ],
 "metadata": {
  "kernelspec": {
   "display_name": "Python 3",
   "language": "python",
   "name": "python3"
  },
  "language_info": {
   "codemirror_mode": {
    "name": "ipython",
    "version": 3
   },
   "file_extension": ".py",
   "mimetype": "text/x-python",
   "name": "python",
   "nbconvert_exporter": "python",
   "pygments_lexer": "ipython3",
   "version": "3.8.5"
  }
 },
 "nbformat": 4,
 "nbformat_minor": 4
}
