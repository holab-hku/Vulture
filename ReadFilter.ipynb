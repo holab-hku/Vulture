{
 "cells": [
  {
   "cell_type": "code",
   "execution_count": 4,
   "metadata": {},
   "outputs": [],
   "source": [
    "import pandas as pd"
   ]
  },
  {
   "cell_type": "code",
   "execution_count": 5,
   "metadata": {},
   "outputs": [],
   "source": [
    "dict_chrom_leng = {\"NC_003977.2\":3182,\"NC_001653.2\":1682,\"NC_001486.1\":3027,\n",
    "                  \"NC_007605.1\":171823,\"NC_009334.1\":172764,\"NC_001669.1\":5243}"
   ]
  },
  {
   "cell_type": "code",
   "execution_count": 6,
   "metadata": {},
   "outputs": [
    {
     "data": {
      "text/plain": [
       "dict_keys(['NC_003977.2', 'NC_001653.2', 'NC_001486.1', 'NC_007605.1', 'NC_009334.1', 'NC_001669.1'])"
      ]
     },
     "execution_count": 6,
     "metadata": {},
     "output_type": "execute_result"
    }
   ],
   "source": [
    "dict_chrom_leng.keys()"
   ]
  },
  {
   "cell_type": "code",
   "execution_count": 7,
   "metadata": {},
   "outputs": [],
   "source": [
    "df_gtf = pd.read_csv(\"D:\\\\scvh_files\\\\vh_genome_dir\\\\human_host_viruses.viruSITE.with_hg38.removed_amb_viral_exon.gtf\",sep=\"\\t\",header=None)"
   ]
  },
  {
   "cell_type": "code",
   "execution_count": 8,
   "metadata": {},
   "outputs": [],
   "source": [
    "df_gtf.columns = [\"chromosome_name\",\"annotation_source\",\"feature_type\",\"genomic_start_location\",\"genomic_end_location\",\n",
    "              \"score\",\"genomic_strand\",\"genomic_phase\",\"additional_k_v_info\"]"
   ]
  },
  {
   "cell_type": "code",
   "execution_count": 11,
   "metadata": {},
   "outputs": [
    {
     "data": {
      "text/plain": [
       "(2902503, 9)"
      ]
     },
     "execution_count": 11,
     "metadata": {},
     "output_type": "execute_result"
    }
   ],
   "source": [
    "df_gtf.shape"
   ]
  },
  {
   "cell_type": "code",
   "execution_count": 13,
   "metadata": {},
   "outputs": [],
   "source": [
    "stat ={}\n",
    "for c_name in dict_chrom_leng.keys():\n",
    "    idx_exccd = (df_gtf.loc[(df_gtf[\"chromosome_name\"]== c_name) & (df_gtf[\"genomic_end_location\"]>= dict_chrom_leng[c_name])]).index\n",
    "    \n",
    "    stat[c_name] = len(idx_exccd)\n",
    "    df_gtf.drop(idx_exccd, inplace=True)\n",
    "\n",
    "    "
   ]
  },
  {
   "cell_type": "code",
   "execution_count": 14,
   "metadata": {},
   "outputs": [
    {
     "data": {
      "text/plain": [
       "{'NC_003977.2': 9,\n",
       " 'NC_001653.2': 3,\n",
       " 'NC_001486.1': 5,\n",
       " 'NC_007605.1': 25,\n",
       " 'NC_009334.1': 15,\n",
       " 'NC_001669.1': 3}"
      ]
     },
     "execution_count": 14,
     "metadata": {},
     "output_type": "execute_result"
    }
   ],
   "source": [
    "stat"
   ]
  },
  {
   "cell_type": "code",
   "execution_count": null,
   "metadata": {},
   "outputs": [],
   "source": [
    "df_gtf.to_csv(\"D:\\\\scvh_files\\\\vh_genome_dir\\\\human_host_viruses.viruSITE.with_hg38.removed_amb_viral_exon_new.gtf\",sep=\"\\t\",header=None,index=False)"
   ]
  }
 ],
 "metadata": {
  "kernelspec": {
   "display_name": "Python 3",
   "language": "python",
   "name": "python3"
  },
  "language_info": {
   "codemirror_mode": {
    "name": "ipython",
    "version": 3
   },
   "file_extension": ".py",
   "mimetype": "text/x-python",
   "name": "python",
   "nbconvert_exporter": "python",
   "pygments_lexer": "ipython3",
   "version": "3.8.5"
  }
 },
 "nbformat": 4,
 "nbformat_minor": 4
}
