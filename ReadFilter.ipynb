{
 "cells": [
  {
   "cell_type": "code",
   "execution_count": 60,
   "metadata": {},
   "outputs": [],
   "source": [
    "import pandas as pd\n",
    "from gtfparse import read_gtf\n",
    "import csv\n"
   ]
  },
  {
   "cell_type": "code",
   "execution_count": 61,
   "metadata": {},
   "outputs": [],
   "source": [
    "#df = read_gtf(\"D:\\\\scvh_files\\\\vh_genome_dir\\\\human_host_viruses.viruSITE.with_hg38.removed_amb_viral_exon.gtf\")"
   ]
  },
  {
   "cell_type": "code",
   "execution_count": 62,
   "metadata": {},
   "outputs": [],
   "source": [
    "#df"
   ]
  },
  {
   "cell_type": "code",
   "execution_count": 63,
   "metadata": {},
   "outputs": [],
   "source": [
    "dict_chrom_leng = {\"NC_003977.2\":3182,\"NC_001653.2\":1682,\"NC_001486.1\":3027,\n",
    "                  \"NC_007605.1\":171823,\"NC_009334.1\":172764,\"NC_001669.1\":5243}"
   ]
  },
  {
   "cell_type": "code",
   "execution_count": 64,
   "metadata": {},
   "outputs": [
    {
     "data": {
      "text/plain": [
       "dict_keys(['NC_003977.2', 'NC_001653.2', 'NC_001486.1', 'NC_007605.1', 'NC_009334.1', 'NC_001669.1'])"
      ]
     },
     "execution_count": 64,
     "metadata": {},
     "output_type": "execute_result"
    }
   ],
   "source": [
    "dict_chrom_leng.keys()"
   ]
  },
  {
   "cell_type": "code",
   "execution_count": 65,
   "metadata": {},
   "outputs": [],
   "source": [
    "df_gtf = pd.read_csv(\"D:\\\\scvh_files\\\\vh_genome_dir\\\\human_host_viruses.viruSITE.with_hg38.removed_amb_viral_exon.gtf\",sep=\"\\t\",header=None, quoting = csv.QUOTE_NONE,doublequote=False)"
   ]
  },
  {
   "cell_type": "code",
   "execution_count": 66,
   "metadata": {},
   "outputs": [
    {
     "data": {
      "text/html": [
       "<div>\n",
       "<style scoped>\n",
       "    .dataframe tbody tr th:only-of-type {\n",
       "        vertical-align: middle;\n",
       "    }\n",
       "\n",
       "    .dataframe tbody tr th {\n",
       "        vertical-align: top;\n",
       "    }\n",
       "\n",
       "    .dataframe thead th {\n",
       "        text-align: right;\n",
       "    }\n",
       "</style>\n",
       "<table border=\"1\" class=\"dataframe\">\n",
       "  <thead>\n",
       "    <tr style=\"text-align: right;\">\n",
       "      <th></th>\n",
       "      <th>0</th>\n",
       "      <th>1</th>\n",
       "      <th>2</th>\n",
       "      <th>3</th>\n",
       "      <th>4</th>\n",
       "      <th>5</th>\n",
       "      <th>6</th>\n",
       "      <th>7</th>\n",
       "      <th>8</th>\n",
       "    </tr>\n",
       "  </thead>\n",
       "  <tbody>\n",
       "    <tr>\n",
       "      <th>0</th>\n",
       "      <td>chr1</td>\n",
       "      <td>HAVANA</td>\n",
       "      <td>gene</td>\n",
       "      <td>11869</td>\n",
       "      <td>14409</td>\n",
       "      <td>.</td>\n",
       "      <td>+</td>\n",
       "      <td>.</td>\n",
       "      <td>gene_id \"ENSG00000223972.5\"; gene_type \"transc...</td>\n",
       "    </tr>\n",
       "    <tr>\n",
       "      <th>1</th>\n",
       "      <td>chr1</td>\n",
       "      <td>HAVANA</td>\n",
       "      <td>transcript</td>\n",
       "      <td>11869</td>\n",
       "      <td>14409</td>\n",
       "      <td>.</td>\n",
       "      <td>+</td>\n",
       "      <td>.</td>\n",
       "      <td>gene_id \"ENSG00000223972.5\"; transcript_id \"EN...</td>\n",
       "    </tr>\n",
       "    <tr>\n",
       "      <th>2</th>\n",
       "      <td>chr1</td>\n",
       "      <td>HAVANA</td>\n",
       "      <td>exon</td>\n",
       "      <td>11869</td>\n",
       "      <td>12227</td>\n",
       "      <td>.</td>\n",
       "      <td>+</td>\n",
       "      <td>.</td>\n",
       "      <td>gene_id \"ENSG00000223972.5\"; transcript_id \"EN...</td>\n",
       "    </tr>\n",
       "    <tr>\n",
       "      <th>3</th>\n",
       "      <td>chr1</td>\n",
       "      <td>HAVANA</td>\n",
       "      <td>exon</td>\n",
       "      <td>12613</td>\n",
       "      <td>12721</td>\n",
       "      <td>.</td>\n",
       "      <td>+</td>\n",
       "      <td>.</td>\n",
       "      <td>gene_id \"ENSG00000223972.5\"; transcript_id \"EN...</td>\n",
       "    </tr>\n",
       "    <tr>\n",
       "      <th>4</th>\n",
       "      <td>chr1</td>\n",
       "      <td>HAVANA</td>\n",
       "      <td>exon</td>\n",
       "      <td>13221</td>\n",
       "      <td>14409</td>\n",
       "      <td>.</td>\n",
       "      <td>+</td>\n",
       "      <td>.</td>\n",
       "      <td>gene_id \"ENSG00000223972.5\"; transcript_id \"EN...</td>\n",
       "    </tr>\n",
       "  </tbody>\n",
       "</table>\n",
       "</div>"
      ],
      "text/plain": [
       "      0       1           2      3      4  5  6  7  \\\n",
       "0  chr1  HAVANA        gene  11869  14409  .  +  .   \n",
       "1  chr1  HAVANA  transcript  11869  14409  .  +  .   \n",
       "2  chr1  HAVANA        exon  11869  12227  .  +  .   \n",
       "3  chr1  HAVANA        exon  12613  12721  .  +  .   \n",
       "4  chr1  HAVANA        exon  13221  14409  .  +  .   \n",
       "\n",
       "                                                   8  \n",
       "0  gene_id \"ENSG00000223972.5\"; gene_type \"transc...  \n",
       "1  gene_id \"ENSG00000223972.5\"; transcript_id \"EN...  \n",
       "2  gene_id \"ENSG00000223972.5\"; transcript_id \"EN...  \n",
       "3  gene_id \"ENSG00000223972.5\"; transcript_id \"EN...  \n",
       "4  gene_id \"ENSG00000223972.5\"; transcript_id \"EN...  "
      ]
     },
     "execution_count": 66,
     "metadata": {},
     "output_type": "execute_result"
    }
   ],
   "source": [
    "df_gtf.head()"
   ]
  },
  {
   "cell_type": "code",
   "execution_count": 67,
   "metadata": {},
   "outputs": [],
   "source": [
    "df_gtf.columns = [\"chromosome_name\",\"annotation_source\",\"feature_type\",\"genomic_start_location\",\"genomic_end_location\",\n",
    "              \"score\",\"genomic_strand\",\"genomic_phase\",\"additional_k_v_info\"]"
   ]
  },
  {
   "cell_type": "code",
   "execution_count": 68,
   "metadata": {},
   "outputs": [
    {
     "data": {
      "text/plain": [
       "(2902503, 9)"
      ]
     },
     "execution_count": 68,
     "metadata": {},
     "output_type": "execute_result"
    }
   ],
   "source": [
    "df_gtf.shape"
   ]
  },
  {
   "cell_type": "code",
   "execution_count": 69,
   "metadata": {},
   "outputs": [
    {
     "name": "stdout",
     "output_type": "stream",
     "text": [
      "Int64Index([2886422, 2886423, 2886424, 2886424, 2886431, 2886431, 2886432,\n",
      "            2886432, 2886432],\n",
      "           dtype='int64')\n",
      "Int64Index([2886470, 2886470, 2886470], dtype='int64')\n",
      "Int64Index([2886511, 2886511, 2886511, 2886511, 2886511], dtype='int64')\n",
      "Int64Index([2888119, 2888127, 2888127, 2888127, 2888127, 2888127, 2888127,\n",
      "            2888127, 2888127, 2888662, 2888663, 2888663, 2888663, 2888663,\n",
      "            2888663, 2888663, 2888663, 2888663, 2888664, 2888664, 2888664,\n",
      "            2888664, 2888664, 2888664, 2888664],\n",
      "           dtype='int64')\n",
      "Int64Index([2889723, 2889724, 2889724, 2889724, 2889724, 2889724, 2889724,\n",
      "            2889724, 2889725, 2889725, 2889725, 2889725, 2889725, 2889725,\n",
      "            2889725],\n",
      "           dtype='int64')\n",
      "Int64Index([2898925, 2898925, 2898925], dtype='int64')\n"
     ]
    }
   ],
   "source": [
    "stat ={}\n",
    "dels = 0\n",
    "for c_name in dict_chrom_leng.keys():\n",
    "    idx_exccd = (df_gtf.loc[(df_gtf[\"chromosome_name\"]== c_name) & ((df_gtf[\"genomic_end_location\"]>= dict_chrom_leng[c_name]) \\\n",
    "                          | (df_gtf[\"genomic_start_location\"]>= dict_chrom_leng[c_name]))]).index\n",
    "    \n",
    "    print(idx_exccd+1 - [i for i in range(dels,dels+len(idx_exccd))] )\n",
    "    stat[c_name] = len(idx_exccd)\n",
    "    df_gtf.drop(idx_exccd, inplace=True)\n",
    "    dels += len(idx_exccd)\n",
    "\n",
    "    "
   ]
  },
  {
   "cell_type": "code",
   "execution_count": 38,
   "metadata": {},
   "outputs": [
    {
     "data": {
      "text/plain": [
       "[0, 1, 2, 3, 4]"
      ]
     },
     "execution_count": 38,
     "metadata": {},
     "output_type": "execute_result"
    }
   ],
   "source": [
    "[i for i in range(0,5)]"
   ]
  },
  {
   "cell_type": "code",
   "execution_count": 26,
   "metadata": {},
   "outputs": [
    {
     "data": {
      "text/plain": [
       "{'NC_003977.2': 9,\n",
       " 'NC_001653.2': 3,\n",
       " 'NC_001486.1': 5,\n",
       " 'NC_007605.1': 25,\n",
       " 'NC_009334.1': 15,\n",
       " 'NC_001669.1': 3}"
      ]
     },
     "execution_count": 26,
     "metadata": {},
     "output_type": "execute_result"
    }
   ],
   "source": [
    "stat"
   ]
  },
  {
   "cell_type": "code",
   "execution_count": 12,
   "metadata": {},
   "outputs": [
    {
     "data": {
      "text/plain": [
       "0          gene_id \"ENSG00000223972.5\"; gene_type \"transc...\n",
       "1          gene_id \"ENSG00000223972.5\"; transcript_id \"EN...\n",
       "2          gene_id \"ENSG00000223972.5\"; transcript_id \"EN...\n",
       "3          gene_id \"ENSG00000223972.5\"; transcript_id \"EN...\n",
       "4          gene_id \"ENSG00000223972.5\"; transcript_id \"EN...\n",
       "                                 ...                        \n",
       "2902498    transcript_id \"gene-CPG35_gp1\"; gene_id \"gene-...\n",
       "2902499    transcript_id \"gene-CPG35_gp1\"; gene_id \"gene-...\n",
       "2902500    transcript_id \"gene-ZIKV_gp1\"; gene_id \"gene-Z...\n",
       "2902501    transcript_id \"gene-ZIKV_gp1\"; gene_id \"gene-Z...\n",
       "2902502    transcript_id \"gene-ZIKV_gp1\"; gene_id \"gene-Z...\n",
       "Name: additional_k_v_info, Length: 2902443, dtype: object"
      ]
     },
     "execution_count": 12,
     "metadata": {},
     "output_type": "execute_result"
    }
   ],
   "source": [
    "df_gtf.additional_k_v_info"
   ]
  },
  {
   "cell_type": "code",
   "execution_count": 13,
   "metadata": {},
   "outputs": [],
   "source": [
    "df_gtf.to_csv(\"D:\\\\scvh_files\\\\vh_genome_dir\\\\human_host_viruses.viruSITE.with_hg38.removed_amb_viral_exon_new.gtf\",sep=\"\\t\",header=None,index=False, quoting = csv.QUOTE_NONE,doublequote=False )"
   ]
  }
 ],
 "metadata": {
  "kernelspec": {
   "display_name": "Python 3",
   "language": "python",
   "name": "python3"
  },
  "language_info": {
   "codemirror_mode": {
    "name": "ipython",
    "version": 3
   },
   "file_extension": ".py",
   "mimetype": "text/x-python",
   "name": "python",
   "nbconvert_exporter": "python",
   "pygments_lexer": "ipython3",
   "version": "3.8.5"
  }
 },
 "nbformat": 4,
 "nbformat_minor": 4
}
